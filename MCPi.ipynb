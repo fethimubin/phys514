{
 "cells": [
  {
   "cell_type": "code",
   "execution_count": 2,
   "metadata": {},
   "outputs": [
    {
     "name": "stdout",
     "output_type": "stream",
     "text": [
      "3.1413408\n",
      "time passed:  5.6537299156188965\n"
     ]
    }
   ],
   "source": [
    "import random\n",
    "import time\n",
    "num_trials = int(1e7)\n",
    "inside = 0\n",
    "t1 = time.time()\n",
    "for _ in range(num_trials):\n",
    "    x = random.random()\n",
    "    y = random.random()\n",
    "    if (x**2+y**2)<1:\n",
    "        inside += 1\n",
    "pi_estimate = (4*inside)/num_trials\n",
    "print(pi_estimate)\n",
    "print(\"time passed: \", time.time()-t1)"
   ]
  },
  {
   "cell_type": "code",
   "execution_count": null,
   "metadata": {},
   "outputs": [],
   "source": []
  },
  {
   "cell_type": "code",
   "execution_count": null,
   "metadata": {},
   "outputs": [],
   "source": []
  }
 ],
 "metadata": {
  "kernelspec": {
   "display_name": "Python 3",
   "language": "python",
   "name": "python3"
  },
  "language_info": {
   "codemirror_mode": {
    "name": "ipython",
    "version": 3
   },
   "file_extension": ".py",
   "mimetype": "text/x-python",
   "name": "python",
   "nbconvert_exporter": "python",
   "pygments_lexer": "ipython3",
   "version": "3.7.3"
  }
 },
 "nbformat": 4,
 "nbformat_minor": 4
}
