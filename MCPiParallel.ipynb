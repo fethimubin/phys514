{
 "cells": [
  {
   "cell_type": "code",
   "execution_count": 1,
   "metadata": {},
   "outputs": [
    {
     "name": "stdout",
     "output_type": "stream",
     "text": [
      "You have 4 CPUs\n",
      "time passed:  2.3516178131103516\n",
      "Esitmated value of Pi::  3.1424336\n"
     ]
    }
   ],
   "source": [
    "# the follwing is from github account of amitsaha\n",
    "# at https://gist.github.com/amitsaha/2036026\n",
    "\n",
    "''' listing 6: pi_mp.py\n",
    "Multiprocessing based code to estimate the value of PI\n",
    "using monte carlo sampling \n",
    "Ref: http://math.fullerton.edu/mathews/n2003/montecarlopimod.html\n",
    "Uses workers: \n",
    "http://docs.python.org/library/multiprocessing.html#module-multiprocessing.pool\n",
    "'''\n",
    "\n",
    "import random\n",
    "import time\n",
    "import multiprocessing\n",
    "\n",
    "#caculate the number of points in the unit circle\n",
    "#out of n points\n",
    "def monte_carlo_pi_part(n):\n",
    "    count = 0\n",
    "    for i in range(n):\n",
    "        x=random.random()\n",
    "        y=random.random()\n",
    "        \n",
    "        # if it is within the unit circle\n",
    "        if x**2 + y**2 <= 1:\n",
    "            count=count+1        \n",
    "    #return\n",
    "    return count\n",
    "\n",
    "np = multiprocessing.cpu_count()\n",
    "print('You have {0:1d} CPUs'.format(np))\n",
    "\n",
    "# Number of points to use for the Pi estimation\n",
    "n = int(1e7)\n",
    "\n",
    "# iterable with a list of points to generate in each worker\n",
    "# each worker process gets n/np number of points to calculate Pi from\n",
    "t1 = time.time()\n",
    "part_count = [int(n/np) for i in range(np)]\n",
    "#part_count = [int(n/np), int(n/np), int(n/np), int(n/np)]\n",
    "#Create the worker pool\n",
    "# http://docs.python.org/library/multiprocessing.html#module-multiprocessing.pool\n",
    "pi_pool = multiprocessing.Pool(processes=np)   \n",
    "\n",
    "# parallel map\n",
    "count = pi_pool.map(monte_carlo_pi_part, part_count)\n",
    "#count = [pi_pool.apply(monte_carlo_pi_part, args=(int(n/np),)) for i in range(np)]\n",
    "#count = [pi_pool.apply_async(monte_carlo_pi_part, args=(int(n/np),)) for i in range(np)]\n",
    "\n",
    "pi_pool.close()\n",
    "print(\"time passed: \", time.time()-t1)\n",
    "print(\"Esitmated value of Pi:: \", sum(count)/(n*1.0)*4)"
   ]
  },
  {
   "cell_type": "code",
   "execution_count": 52,
   "metadata": {},
   "outputs": [
    {
     "data": {
      "text/plain": [
       "4"
      ]
     },
     "execution_count": 52,
     "metadata": {},
     "output_type": "execute_result"
    }
   ],
   "source": [
    "np = multiprocessing.cpu_count()\n",
    "np"
   ]
  },
  {
   "cell_type": "code",
   "execution_count": null,
   "metadata": {},
   "outputs": [],
   "source": []
  }
 ],
 "metadata": {
  "kernelspec": {
   "display_name": "Python 3",
   "language": "python",
   "name": "python3"
  },
  "language_info": {
   "codemirror_mode": {
    "name": "ipython",
    "version": 3
   },
   "file_extension": ".py",
   "mimetype": "text/x-python",
   "name": "python",
   "nbconvert_exporter": "python",
   "pygments_lexer": "ipython3",
   "version": "3.7.3"
  }
 },
 "nbformat": 4,
 "nbformat_minor": 4
}
