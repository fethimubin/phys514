{
 "cells": [
  {
   "cell_type": "code",
   "execution_count": 3,
   "metadata": {},
   "outputs": [],
   "source": [
    "import numpy as np\n",
    "import matplotlib.pyplot as plt\n",
    "\n",
    "from warnings import warn\n",
    "from scipy.special import lambertw"
   ]
  },
  {
   "cell_type": "code",
   "execution_count": 8,
   "metadata": {},
   "outputs": [],
   "source": [
    "def newton_(fn, d_fn, x, tol=1E-15, max_steps=20):\n",
    "  \n",
    "  converged = np.zeros_like(x, dtype='bool')\n",
    "  \n",
    "  for _ in range(max_steps):\n",
    "    \n",
    "    f_x = fn(x[~converged], ~converged)\n",
    "    flipped = np.abs(f_x) < tol\n",
    "    \n",
    "    converged[~converged] = flipped\n",
    "    \n",
    "    if np.all(converged):\n",
    "      return x\n",
    "    \n",
    "    x[~converged] -= f_x[~flipped] / d_fn(x[~converged])\n",
    "    \n",
    "  \n",
    "  warn(f\"Max steps reached w/o convergence; increase tol or max_steps\")\n",
    "  \n",
    "  return x\n",
    "\n",
    "\n",
    "\n",
    "\n",
    "def lambertw_custom_1(x, tol=1E-15):\n",
    "    \n",
    "    def x_exp_shifted(z, mask=slice(None)):\n",
    "      return z * np.exp(z) - x[mask]\n",
    "    def x_exp_der(z):\n",
    "      return (z + 1) * np.exp(z)\n",
    "    \n",
    "    init_guess = np.ones_like(x)\n",
    "    init_guess[x > np.e] = np.log(x[x>np.e])-np.log(np.log(x[x>np.e]))\n",
    "    \n",
    "    return newton_(x_exp_shifted, x_exp_der, init_guess, tol)"
   ]
  },
  {
   "cell_type": "code",
   "execution_count": 5,
   "metadata": {},
   "outputs": [],
   "source": [
    "x = np.arange(-1/np.e+1e-8, 1, 1e-6)"
   ]
  },
  {
   "cell_type": "code",
   "execution_count": 9,
   "metadata": {},
   "outputs": [
    {
     "data": {
      "text/plain": [
       "array([2.33146278e-04, 2.34144485e-03, 3.30203888e-03, ...,\n",
       "       1.56714241e+00, 1.56714277e+00, 1.56714313e+00])"
      ]
     },
     "execution_count": 9,
     "metadata": {},
     "output_type": "execute_result"
    }
   ],
   "source": [
    "lambertw_custom_1(x, 1E-15)"
   ]
  },
  {
   "cell_type": "code",
   "execution_count": 3,
   "metadata": {},
   "outputs": [],
   "source": [
    "import numpy as np\n",
    "import numpy.polynomial.legendre as leg"
   ]
  },
  {
   "cell_type": "code",
   "execution_count": 2,
   "metadata": {},
   "outputs": [
    {
     "data": {
      "text/plain": [
       "array([-0.85099543, -0.11407192,  0.51506735])"
      ]
     },
     "execution_count": 2,
     "metadata": {},
     "output_type": "execute_result"
    }
   ],
   "source": [
    "leg.legroots((1, 2, 3, 4))"
   ]
  },
  {
   "cell_type": "code",
   "execution_count": 9,
   "metadata": {},
   "outputs": [],
   "source": [
    "a=np.zeros(40)"
   ]
  },
  {
   "cell_type": "code",
   "execution_count": 10,
   "metadata": {},
   "outputs": [
    {
     "data": {
      "text/plain": [
       "array([0., 0., 0., 0., 0., 0., 0., 0., 0., 0., 0., 0., 0., 0., 0., 0., 0.,\n",
       "       0., 0., 0., 0., 0., 0., 0., 0., 0., 0., 0., 0., 0., 0., 0., 0., 0.,\n",
       "       0., 0., 0., 0., 0., 0.])"
      ]
     },
     "execution_count": 10,
     "metadata": {},
     "output_type": "execute_result"
    }
   ],
   "source": [
    "a"
   ]
  },
  {
   "cell_type": "code",
   "execution_count": 11,
   "metadata": {},
   "outputs": [],
   "source": [
    "a[39]=1"
   ]
  },
  {
   "cell_type": "code",
   "execution_count": 12,
   "metadata": {},
   "outputs": [
    {
     "data": {
      "text/plain": [
       "array([0., 0., 0., 0., 0., 0., 0., 0., 0., 0., 0., 0., 0., 0., 0., 0., 0.,\n",
       "       0., 0., 0., 0., 0., 0., 0., 0., 0., 0., 0., 0., 0., 0., 0., 0., 0.,\n",
       "       0., 0., 0., 0., 0., 1.])"
      ]
     },
     "execution_count": 12,
     "metadata": {},
     "output_type": "execute_result"
    }
   ],
   "source": [
    "a"
   ]
  },
  {
   "cell_type": "code",
   "execution_count": 13,
   "metadata": {},
   "outputs": [
    {
     "data": {
      "text/plain": [
       "array([-9.98147383e-01, -9.90251537e-01, -9.76098709e-01, -9.55775212e-01,\n",
       "       -9.29409148e-01, -8.97167119e-01, -8.59252938e-01, -8.15906297e-01,\n",
       "       -7.67401243e-01, -7.14044436e-01, -6.56173213e-01, -5.94153455e-01,\n",
       "       -5.28377269e-01, -4.59260512e-01, -3.87240164e-01, -3.12771559e-01,\n",
       "       -2.36325512e-01, -1.58385340e-01, -7.94438046e-02,  1.50274291e-16,\n",
       "        7.94438046e-02,  1.58385340e-01,  2.36325512e-01,  3.12771559e-01,\n",
       "        3.87240164e-01,  4.59260512e-01,  5.28377269e-01,  5.94153455e-01,\n",
       "        6.56173213e-01,  7.14044436e-01,  7.67401243e-01,  8.15906297e-01,\n",
       "        8.59252938e-01,  8.97167119e-01,  9.29409148e-01,  9.55775212e-01,\n",
       "        9.76098709e-01,  9.90251537e-01,  9.98147383e-01])"
      ]
     },
     "execution_count": 13,
     "metadata": {},
     "output_type": "execute_result"
    }
   ],
   "source": [
    "leg.legroots(a)"
   ]
  },
  {
   "cell_type": "code",
   "execution_count": null,
   "metadata": {},
   "outputs": [],
   "source": []
  }
 ],
 "metadata": {
  "kernelspec": {
   "display_name": "Python 3",
   "language": "python",
   "name": "python3"
  },
  "language_info": {
   "codemirror_mode": {
    "name": "ipython",
    "version": 3
   },
   "file_extension": ".py",
   "mimetype": "text/x-python",
   "name": "python",
   "nbconvert_exporter": "python",
   "pygments_lexer": "ipython3",
   "version": "3.7.3"
  }
 },
 "nbformat": 4,
 "nbformat_minor": 4
}
